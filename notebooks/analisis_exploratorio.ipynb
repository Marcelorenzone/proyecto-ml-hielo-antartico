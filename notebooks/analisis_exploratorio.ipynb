{
 "cells": [
  {
   "cell_type": "markdown",
   "id": "7ff85970",
   "metadata": {},
   "source": [
    "# 📊 Análisis Exploratorio - Derretimiento de Hielo Antártico"
   ]
  },
  {
   "cell_type": "code",
   "execution_count": null,
   "id": "bc033ef1",
   "metadata": {},
   "outputs": [],
   "source": [
    "import pandas as pd\n",
    "import matplotlib.pyplot as plt\n",
    "import seaborn as sns\n",
    "\n",
    "# Configuraciones de estilo\n",
    "sns.set(style=\"whitegrid\")"
   ]
  },
  {
   "cell_type": "code",
   "execution_count": null,
   "id": "0ee5d009",
   "metadata": {},
   "outputs": [],
   "source": [
    "# Cargar el dataset procesado\n",
    "df = pd.read_csv('dataset_final.csv')\n",
    "df.head()"
   ]
  },
  {
   "cell_type": "code",
   "execution_count": null,
   "id": "3df02671",
   "metadata": {},
   "outputs": [],
   "source": [
    "# Información general del DataFrame\n",
    "df.info()"
   ]
  },
  {
   "cell_type": "code",
   "execution_count": null,
   "id": "d520e1a4",
   "metadata": {},
   "outputs": [],
   "source": [
    "# Estadísticas descriptivas\n",
    "df.describe()"
   ]
  },
  {
   "cell_type": "code",
   "execution_count": null,
   "id": "670ceb5b",
   "metadata": {},
   "outputs": [],
   "source": [
    "# Evolución de temperaturas anuales\n",
    "plt.figure(figsize=(10, 6))\n",
    "plt.plot(df['anio'], df['temp_media_anual'], label='Temp. Media')\n",
    "plt.plot(df['anio'], df['temp_max_anual'], label='Temp. Máxima')\n",
    "plt.plot(df['anio'], df['temp_min_anual'], label='Temp. Mínima')\n",
    "plt.title('Temperaturas Anuales en Tierra del Fuego (2009-2021)')\n",
    "plt.xlabel('Año')\n",
    "plt.ylabel('Temperatura (°C)')\n",
    "plt.legend()\n",
    "plt.tight_layout()\n",
    "plt.show()"
   ]
  },
  {
   "cell_type": "code",
   "execution_count": null,
   "id": "22b7114a",
   "metadata": {},
   "outputs": [],
   "source": [
    "# Comparación de temperatura según año crítico o no\n",
    "plt.figure(figsize=(8, 6))\n",
    "sns.boxplot(x='anio_critico', y='temp_media_anual', data=df)\n",
    "plt.xticks([0,1], ['No Crítico', 'Crítico'])\n",
    "plt.title('Temperatura Media en Años Críticos vs No Críticos')\n",
    "plt.show()"
   ]
  },
  {
   "cell_type": "code",
   "execution_count": null,
   "id": "63af7dbb",
   "metadata": {},
   "outputs": [],
   "source": [
    "# Mapa de calor de correlación\n",
    "plt.figure(figsize=(8,6))\n",
    "sns.heatmap(df.corr(), annot=True, cmap='coolwarm', fmt=\".2f\")\n",
    "plt.title(\"Matriz de Correlación\")\n",
    "plt.show()"
   ]
  }
 ],
 "metadata": {},
 "nbformat": 4,
 "nbformat_minor": 5
}
