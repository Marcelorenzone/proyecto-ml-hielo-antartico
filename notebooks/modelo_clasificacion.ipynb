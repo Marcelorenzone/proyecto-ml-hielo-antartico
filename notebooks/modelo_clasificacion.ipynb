{
 "cells": [
  {
   "cell_type": "markdown",
   "id": "1c46058b",
   "metadata": {},
   "source": [
    "# 🌲 Clasificación de Años Críticos - Random Forest"
   ]
  },
  {
   "cell_type": "code",
   "execution_count": null,
   "id": "1ef4443a",
   "metadata": {},
   "outputs": [],
   "source": [
    "import pandas as pd\n",
    "import matplotlib.pyplot as plt\n",
    "import seaborn as sns\n",
    "from sklearn.model_selection import train_test_split\n",
    "from sklearn.ensemble import RandomForestClassifier\n",
    "from sklearn.metrics import classification_report, confusion_matrix, ConfusionMatrixDisplay\n",
    "\n",
    "# Cargar el dataset\n",
    "df = pd.read_csv('dataset_final.csv')\n",
    "df.head()"
   ]
  },
  {
   "cell_type": "code",
   "execution_count": null,
   "id": "88329a6c",
   "metadata": {},
   "outputs": [],
   "source": [
    "# Separar características y variable objetivo\n",
    "X = df[['temp_media_anual', 'temp_max_anual', 'temp_min_anual']]\n",
    "y = df['anio_critico']\n",
    "\n",
    "# División en entrenamiento y prueba\n",
    "X_train, X_test, y_train, y_test = train_test_split(X, y, test_size=0.3, random_state=42)"
   ]
  },
  {
   "cell_type": "code",
   "execution_count": null,
   "id": "62dbce9e",
   "metadata": {},
   "outputs": [],
   "source": [
    "# Entrenar modelo de Random Forest\n",
    "model = RandomForestClassifier(n_estimators=100, max_depth=3, random_state=42)\n",
    "model.fit(X_train, y_train)\n",
    "\n",
    "# Predicciones\n",
    "y_pred = model.predict(X_test)"
   ]
  },
  {
   "cell_type": "code",
   "execution_count": null,
   "id": "75f5bc23",
   "metadata": {},
   "outputs": [],
   "source": [
    "# Métricas de evaluación\n",
    "print(\"📊 Classification Report:\")\n",
    "print(classification_report(y_test, y_pred))"
   ]
  },
  {
   "cell_type": "code",
   "execution_count": null,
   "id": "418ea952",
   "metadata": {},
   "outputs": [],
   "source": [
    "# Matriz de confusión\n",
    "cm = confusion_matrix(y_test, y_pred)\n",
    "disp = ConfusionMatrixDisplay(confusion_matrix=cm, display_labels=[\"No Crítico\", \"Crítico\"])\n",
    "disp.plot(cmap='Blues')\n",
    "plt.title(\"Matriz de Confusión\")\n",
    "plt.show()"
   ]
  }
 ],
 "metadata": {},
 "nbformat": 4,
 "nbformat_minor": 5
}
